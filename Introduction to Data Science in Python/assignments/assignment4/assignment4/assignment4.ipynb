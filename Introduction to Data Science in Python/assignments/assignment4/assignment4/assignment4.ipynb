{
 "cells": [
  {
   "cell_type": "markdown",
   "metadata": {
    "deletable": false,
    "editable": false,
    "nbgrader": {
     "checksum": "48770f8b5f5d3062d3badd51fcafc401",
     "grade": false,
     "grade_id": "cell-a6c4f74309fc2379",
     "locked": true,
     "schema_version": 1,
     "solution": false
    }
   },
   "source": [
    "# Assignment 4\n",
    "## Description\n",
    "In this assignment you must read in a file of metropolitan regions and associated sports teams from [assets/wikipedia_data.html](assets/wikipedia_data.html) and answer some questions about each metropolitan region. Each of these regions may have one or more teams from the \"Big 4\": NFL (football, in [assets/nfl.csv](assets/nfl.csv)), MLB (baseball, in [assets/mlb.csv](assets/mlb.csv)), NBA (basketball, in [assets/nba.csv](assets/nba.csv) or NHL (hockey, in [assets/nhl.csv](assets/nhl.csv)). Please keep in mind that all questions are from the perspective of the metropolitan region, and that this file is the \"source of authority\" for the location of a given sports team. Thus teams which are commonly known by a different area (e.g. \"Oakland Raiders\") need to be mapped into the metropolitan region given (e.g. San Francisco Bay Area). This will require some human data understanding outside of the data you've been given (e.g. you will have to hand-code some names, and might need to google to find out where teams are)!\n",
    "\n",
    "For each sport I would like you to answer the question: **what is the win/loss ratio's correlation with the population of the city it is in?** Win/Loss ratio refers to the number of wins over the number of wins plus the number of losses. Remember that to calculate the correlation with [`pearsonr`](https://docs.scipy.org/doc/scipy/reference/generated/scipy.stats.pearsonr.html), so you are going to send in two ordered lists of values, the populations from the wikipedia_data.html file and the win/loss ratio for a given sport in the same order. Average the win/loss ratios for those cities which have multiple teams of a single sport. Each sport is worth an equal amount in this assignment (20%\\*4=80%) of the grade for this assignment. You should only use data **from year 2018** for your analysis -- this is important!\n",
    "\n",
    "## Notes\n",
    "\n",
    "1. Do not include data about the MLS or CFL in any of the work you are doing, we're only interested in the Big 4 in this assignment.\n",
    "2. I highly suggest that you first tackle the four correlation questions in order, as they are all similar and worth the majority of grades for this assignment. This is by design!\n",
    "3. It's fair game to talk with peers about high level strategy as well as the relationship between metropolitan areas and sports teams. However, do not post code solving aspects of the assignment (including such as dictionaries mapping areas to teams, or regexes which will clean up names).\n",
    "4. There may be more teams than the assert statements test, remember to collapse multiple teams in one city into a single value!"
   ]
  },
  {
   "cell_type": "markdown",
   "metadata": {
    "deletable": false,
    "editable": false,
    "nbgrader": {
     "checksum": "369ff9ecf0ee04640574205cbc697f94",
     "grade": false,
     "grade_id": "cell-712b2b5da63d4505",
     "locked": true,
     "schema_version": 1,
     "solution": false
    }
   },
   "source": [
    "## Question 1\n",
    "For this question, calculate the win/loss ratio's correlation with the population of the city it is in for the **NHL** using **2018** data."
   ]
  },
  {
   "cell_type": "code",
   "execution_count": 6,
   "metadata": {
    "deletable": false,
    "nbgrader": {
     "checksum": "1cac4803b02502929f5b1612d48db2b5",
     "grade": false,
     "grade_id": "cell-69b16e4386e58030",
     "locked": false,
     "schema_version": 1,
     "solution": true
    }
   },
   "outputs": [
    {
     "data": {
      "text/plain": [
       "0.012486162921209907"
      ]
     },
     "execution_count": 6,
     "metadata": {},
     "output_type": "execute_result"
    }
   ],
   "source": [
    "import pandas as pd\n",
    "import numpy as np\n",
    "import scipy.stats as stats\n",
    "import re\n",
    "from html.parser import HTMLParser\n",
    "\n",
    "nhl_df=pd.read_csv(\"assets/nhl.csv\")\n",
    "cities=pd.read_html(\"assets/wikipedia_data.html\")[1]\n",
    "cities=cities.iloc[:-1,[0,3,5,6,7,8]]\n",
    "\n",
    "# clean up cities remove []\n",
    "cities['NHL'] = cities['NHL'].str.replace(r\"\\s*\\[.*?\\]\\s*\", '').str.strip()\n",
    "\n",
    "#clean up cities remove no team or '-'\n",
    "cities = cities[cities.NHL != '—']\n",
    "\n",
    "#clean up Red Wings\n",
    "cities = cities.replace({\"Red Wings\": \"Redwings\", \"Maple Leafs\": \"Mapleleafs\", \"Golden Knights\": \"Goldenknights\", \"Blue Jackets\": \"Bluejackets\" }, regex=True)\n",
    "\n",
    "#clean up cities - separate by upper case letters \n",
    "cities['NHL'] = cities['NHL'].str.replace(r'(?<!^)([A-Z])', r' \\1')\n",
    "\n",
    "# cities new rows for each team ()\n",
    "cities = cities.assign(NHL=cities['NHL'].str.split(' ')).explode('NHL')\n",
    "\n",
    "#remove rows with no NHL values\n",
    "cities = cities[cities.NHL != '']\n",
    "\n",
    "\n",
    "#clean-up nhl team names - grab last word\n",
    "\n",
    "#nhl_df - filter for 2018 data\n",
    "nhl_df = nhl_df[nhl_df.year == 2018]\n",
    "nhl_df['team'] = nhl_df['team'].str.replace('*', '')\n",
    "nhl_df = nhl_df.replace({\"Red Wings\": \"Redwings\", \"Maple Leafs\": \"Mapleleafs\", \"Golden Knights\": \"Goldenknights\", \"Blue Jackets\": \"Bluejackets\" }, regex=True)\n",
    "nhl_df['team'] = nhl_df['team'].str.split().str[-1]\n",
    "nhl_df = nhl_df[nhl_df.team != 'Division']\n",
    "#nhl_df - new column - win/loss ratio\n",
    "\n",
    "nhl_df['Ratio'] = pd.to_numeric(nhl_df['W'])/ (pd.to_numeric(nhl_df['W']) + pd.to_numeric(nhl_df['L']))\n",
    "#merge dataframe by team\n",
    "\n",
    "#df2_tidy = df2_melted.rename(columns = {'variable': 'Year', 'value': 'Income'}, inplace = False)\n",
    "\n",
    "cities = cities.rename(columns = {'NHL': 'team'})\n",
    "\n",
    "df = pd.merge(cities, nhl_df, how='inner', on='team')\n",
    "df = df.rename(columns = {'Population (2016 est.)[8]': 'Population'})\n",
    "df['Population'] = pd.to_numeric(df['Population'])\n",
    "#pivot table index = metro, mean of win/loss ratio\n",
    "\n",
    "pop_table = pd.pivot_table(df, values='Population', index='Metropolitan area', aggfunc='mean')\n",
    "ratio_table = pd.pivot_table(df, values='Ratio', index='Metropolitan area', aggfunc='mean')\n",
    " \n",
    "def nhl_correlation(): \n",
    "    # YOUR CODE HERE\n",
    "    #raise NotImplementedError()\n",
    "    \n",
    "    population_by_region = pop_table['Population'].tolist() # pass in metropolitan area population from cities\n",
    "    win_loss_by_region = ratio_table['Ratio'].tolist() # pass in win/loss ratio from nhl_df in the same order as cities[\"Metropolitan area\"]\n",
    "\n",
    "    assert len(population_by_region) == len(win_loss_by_region), \"Q1: Your lists must be the same length\"\n",
    "    assert len(population_by_region) == 28, \"Q1: There should be 28 teams being analysed for NHL\"\n",
    "    \n",
    "\n",
    "    corr, pval = stats.pearsonr(population_by_region, win_loss_by_region)\n",
    "    \n",
    "    return(corr) \n",
    "\n",
    "nhl_correlation()\n"
   ]
  },
  {
   "cell_type": "code",
   "execution_count": null,
   "metadata": {
    "deletable": false,
    "editable": false,
    "nbgrader": {
     "checksum": "52a581df513c71153e105b93764cda4b",
     "grade": true,
     "grade_id": "cell-ebe0b2dfe1067e63",
     "locked": true,
     "points": 20,
     "schema_version": 1,
     "solution": false
    }
   },
   "outputs": [],
   "source": []
  },
  {
   "cell_type": "markdown",
   "metadata": {
    "deletable": false,
    "editable": false,
    "nbgrader": {
     "checksum": "988912cae4968d81473f46d783e79c16",
     "grade": false,
     "grade_id": "cell-cb964e690298b71d",
     "locked": true,
     "schema_version": 1,
     "solution": false
    }
   },
   "source": [
    "## Question 2\n",
    "For this question, calculate the win/loss ratio's correlation with the population of the city it is in for the **NBA** using **2018** data."
   ]
  },
  {
   "cell_type": "code",
   "execution_count": 7,
   "metadata": {
    "deletable": false,
    "nbgrader": {
     "checksum": "9394222aafc8ccab0a228098ba0d6010",
     "grade": false,
     "grade_id": "cell-5a5f21279e3d3572",
     "locked": false,
     "schema_version": 1,
     "solution": true
    }
   },
   "outputs": [
    {
     "data": {
      "text/plain": [
       "-0.17657160252844617"
      ]
     },
     "execution_count": 7,
     "metadata": {},
     "output_type": "execute_result"
    }
   ],
   "source": [
    "import pandas as pd\n",
    "import numpy as np\n",
    "import scipy.stats as stats\n",
    "import re\n",
    "\n",
    "nba_df=pd.read_csv(\"assets/nba.csv\")\n",
    "cities=pd.read_html(\"assets/wikipedia_data.html\")[1]\n",
    "cities=cities.iloc[:-1,[0,3,5,6,7,8]]\n",
    "\n",
    "# clean up cities remove []\n",
    "cities['NBA'] = cities['NBA'].str.replace(r\"\\s*\\[.*?\\]\\s*\", '').str.strip()\n",
    "\n",
    "# #clean up cities remove no team or '-'\n",
    "cities = cities[cities.NBA != '—']\n",
    "\n",
    "# #clean up Red Wings\n",
    "cities = cities.replace({\"Trail Blazers\": \"Trailblazer\"}, regex=True)\n",
    "\n",
    "# #clean up cities - separate by upper case letters \n",
    "cities['NBA'] = cities['NBA'].str.replace(r'(?<!^)([A-Z])', r' \\1')\n",
    "\n",
    "# # cities new rows for each team ()\n",
    "cities = cities.assign(NBA=cities['NBA'].str.split(' ')).explode('NBA')\n",
    "\n",
    "# #remove rows with no NBA values\n",
    "cities = cities[cities.NBA != '']\n",
    "cities = cities.rename(columns = {'NBA': 'team'})\n",
    "\n",
    "\n",
    "# clean-up nhl team names - grab last word\n",
    "\n",
    "#nba_df - filter for 2018 data\n",
    "nba_df = nba_df[nba_df.year == 2018]\n",
    "nba_df = nba_df.replace({\"Trail Blazers\": \"Trailblazer\"}, regex=True)\n",
    "\n",
    "nba_df['team'] = nba_df['team'].str.replace('*', '')\n",
    "nba_df['team'] = nba_df['team'].str.replace(r\"\\(.*\\)\", '').str.strip()\n",
    "\n",
    "nba_df['team'] = nba_df['team'].str.split().str[-1]\n",
    "\n",
    "nba_df['Ratio'] = pd.to_numeric(nba_df['W'])/ (pd.to_numeric(nba_df['W']) + pd.to_numeric(nba_df['L']))\n",
    "\n",
    "\n",
    "df = pd.merge(cities, nba_df, how='inner', on='team')\n",
    "df = df.rename(columns = {'Population (2016 est.)[8]': 'Population'})\n",
    "df['Population'] = pd.to_numeric(df['Population'])\n",
    "\n",
    "#pivot table index = metro, mean of win/loss ratio\n",
    "\n",
    "pop_table = pd.pivot_table(df, values='Population', index='Metropolitan area', aggfunc='mean')\n",
    "ratio_table = pd.pivot_table(df, values='Ratio', index='Metropolitan area', aggfunc='mean')\n",
    " \n",
    "\n",
    "def nba_correlation():\n",
    "    # YOUR CODE HERE\n",
    "    #raise NotImplementedError()\n",
    "    \n",
    "    population_by_region = pop_table['Population'].tolist() # pass in metropolitan area population from cities\n",
    "    win_loss_by_region = ratio_table['Ratio'].tolist() # pass in win/loss ratio from nhl_df in the same order as cities[\"Metropolitan area\"]\n",
    "\n",
    "    assert len(population_by_region) == len(win_loss_by_region), \"Q2: Your lists must be the same length\"\n",
    "    assert len(population_by_region) == 28, \"Q2: There should be 28 teams being analysed for NBA\"\n",
    "    \n",
    "    corr, pval = stats.pearsonr(population_by_region, win_loss_by_region)\n",
    "    \n",
    "    return(corr)  \n",
    "\n",
    "nba_correlation()"
   ]
  },
  {
   "cell_type": "code",
   "execution_count": null,
   "metadata": {
    "deletable": false,
    "editable": false,
    "nbgrader": {
     "checksum": "bbdeb8eb22f525a34c10dc8798324e42",
     "grade": true,
     "grade_id": "cell-e573b2b4a282b470",
     "locked": true,
     "points": 20,
     "schema_version": 1,
     "solution": false
    }
   },
   "outputs": [],
   "source": []
  },
  {
   "cell_type": "markdown",
   "metadata": {
    "deletable": false,
    "editable": false,
    "nbgrader": {
     "checksum": "1a1a5809f675ca033086422007cd73bd",
     "grade": false,
     "grade_id": "cell-96e15e4335df78f4",
     "locked": true,
     "schema_version": 1,
     "solution": false
    }
   },
   "source": [
    "## Question 3\n",
    "For this question, calculate the win/loss ratio's correlation with the population of the city it is in for the **MLB** using **2018** data."
   ]
  },
  {
   "cell_type": "code",
   "execution_count": 8,
   "metadata": {
    "deletable": false,
    "nbgrader": {
     "checksum": "27e8c0da6c9fa0dffc10488314335b6c",
     "grade": false,
     "grade_id": "cell-33b00fc3f3467b0c",
     "locked": false,
     "schema_version": 1,
     "solution": true
    }
   },
   "outputs": [
    {
     "data": {
      "text/plain": [
       "0.15027698302669307"
      ]
     },
     "execution_count": 8,
     "metadata": {},
     "output_type": "execute_result"
    }
   ],
   "source": [
    "import pandas as pd\n",
    "import numpy as np\n",
    "import scipy.stats as stats\n",
    "import re\n",
    "\n",
    "mlb_df=pd.read_csv(\"assets/mlb.csv\")\n",
    "cities=pd.read_html(\"assets/wikipedia_data.html\")[1]\n",
    "cities=cities.iloc[:-1,[0,3,5,6,7,8]]\n",
    "\n",
    "# clean up cities remove []\n",
    "cities['MLB'] = cities['MLB'].str.replace(r\"\\s*\\[.*?\\]\\s*\", '').str.strip()\n",
    "\n",
    "# #clean up cities remove no team or '-'\n",
    "cities = cities[cities.MLB != '—']\n",
    "\n",
    "# # #clean up Red Wings\n",
    "cities = cities.replace({\"Blue Jays\": \"Bluejays\", \"White Sox\": \"Whitesox\", \"Red Sox\": \"Redsox\"}, regex=True)\n",
    "\n",
    "# # #clean up cities - separate by upper case letters \n",
    "cities['MLB'] = cities['MLB'].str.replace(r'(?<!^)([A-Z])', r' \\1')\n",
    "\n",
    "# # # cities new rows for each team ()\n",
    "cities = cities.assign(MLB=cities['MLB'].str.split(' ')).explode('MLB')\n",
    "\n",
    "# # #remove rows with no NBA values\n",
    "cities = cities[cities.MLB != '']\n",
    "cities = cities.rename(columns = {'MLB': 'team'})\n",
    "\n",
    "\n",
    "# # clean-up nhl team names - grab last word\n",
    "\n",
    "# #nba_df - filter for 2018 data\n",
    "mlb_df = mlb_df[mlb_df.year == 2018]\n",
    "mlb_df = mlb_df.replace({\"Blue Jays\": \"Bluejays\", \"White Sox\": \"Whitesox\", \"Red Sox\": \"Redsox\"}, regex=True)\n",
    "\n",
    "mlb_df['team'] = mlb_df['team'].str.replace('*', '')\n",
    "mlb_df['team'] = mlb_df['team'].str.replace(r\"\\(.*\\)\", '').str.strip()\n",
    "\n",
    "mlb_df['team'] = mlb_df['team'].str.split().str[-1]\n",
    "\n",
    "mlb_df['Ratio'] = pd.to_numeric(mlb_df['W'])/ (pd.to_numeric(mlb_df['W']) + pd.to_numeric(mlb_df['L']))\n",
    "\n",
    "\n",
    "df = pd.merge(cities, mlb_df, how='inner', on='team')\n",
    "df = df.rename(columns = {'Population (2016 est.)[8]': 'Population'})\n",
    "df['Population'] = pd.to_numeric(df['Population'])\n",
    "\n",
    "# #pivot table index = metro, mean of win/loss ratio\n",
    "\n",
    "pop_table = pd.pivot_table(df, values='Population', index='Metropolitan area', aggfunc='mean')\n",
    "ratio_table = pd.pivot_table(df, values='Ratio', index='Metropolitan area', aggfunc='mean')\n",
    " \n",
    "def mlb_correlation(): \n",
    "    # YOUR CODE HERE\n",
    "    #raise NotImplementedError()\n",
    "    \n",
    "    population_by_region = pop_table['Population'].tolist() # pass in metropolitan area population from cities\n",
    "    win_loss_by_region = ratio_table['Ratio'].tolist() # pass in win/loss ratio from nhl_df in the same order as cities[\"Metropolitan area\"]\n",
    "\n",
    "    assert len(population_by_region) == len(win_loss_by_region), \"Q3: Your lists must be the same length\"\n",
    "    assert len(population_by_region) == 26, \"Q3: There should be 26 teams being analysed for MLB\"\n",
    "    \n",
    "    corr, pval = stats.pearsonr(population_by_region, win_loss_by_region)\n",
    "    \n",
    "    return(corr) \n",
    "mlb_correlation()\n"
   ]
  },
  {
   "cell_type": "code",
   "execution_count": null,
   "metadata": {
    "deletable": false,
    "editable": false,
    "nbgrader": {
     "checksum": "cda33b094ba19ccc37a481e0dd29e0bc",
     "grade": true,
     "grade_id": "cell-764d4476f425c5a2",
     "locked": true,
     "points": 20,
     "schema_version": 1,
     "solution": false
    }
   },
   "outputs": [],
   "source": []
  },
  {
   "cell_type": "markdown",
   "metadata": {
    "deletable": false,
    "editable": false,
    "nbgrader": {
     "checksum": "6977a6da9ed6d8b7a0b7e37bbeda709b",
     "grade": false,
     "grade_id": "cell-793df6c04dfb126e",
     "locked": true,
     "schema_version": 1,
     "solution": false
    }
   },
   "source": [
    "## Question 4\n",
    "For this question, calculate the win/loss ratio's correlation with the population of the city it is in for the **NFL** using **2018** data."
   ]
  },
  {
   "cell_type": "code",
   "execution_count": 9,
   "metadata": {
    "deletable": false,
    "nbgrader": {
     "checksum": "c4914ad1e119278ec2bd567c52640b66",
     "grade": false,
     "grade_id": "cell-8ccebc209aeec8d9",
     "locked": false,
     "schema_version": 1,
     "solution": true
    }
   },
   "outputs": [
    {
     "data": {
      "text/plain": [
       "0.012859868107168096"
      ]
     },
     "execution_count": 9,
     "metadata": {},
     "output_type": "execute_result"
    }
   ],
   "source": [
    "import pandas as pd\n",
    "import numpy as np\n",
    "import scipy.stats as stats\n",
    "import re\n",
    "\n",
    "nfl_df=pd.read_csv(\"assets/nfl.csv\")\n",
    "cities=pd.read_html(\"assets/wikipedia_data.html\")[1]\n",
    "cities=cities.iloc[:-1,[0,3,5,6,7,8]]\n",
    "\n",
    "# clean up cities remove []\n",
    "cities['NFL'] = cities['NFL'].str.replace(r\"\\s*\\[.*?\\]\\s*\", '').str.strip()\n",
    "\n",
    "# # #clean up cities remove no team or '-'\n",
    "cities = cities[cities.NFL != '—']\n",
    "\n",
    "# # # #clean up Red Wings\n",
    "\n",
    "# # # #clean up cities - separate by upper case letters \n",
    "cities['NFL'] = cities['NFL'].str.replace(r'(?<!^)([A-Z])', r' \\1')\n",
    "\n",
    "# # # # cities new rows for each team ()\n",
    "cities = cities.assign(NFL=cities['NFL'].str.split(' ')).explode('NFL')\n",
    "\n",
    "# # # #remove rows with no NBA values\n",
    "cities = cities[cities.NFL != '']\n",
    "cities = cities.rename(columns = {'NFL': 'team'})\n",
    "\n",
    "\n",
    "# # # clean-up nhl team names - grab last word\n",
    "\n",
    "# # #nba_df - filter for 2018 data\n",
    "nfl_df = nfl_df[nfl_df.year == 2018]\n",
    "nfl_df['team'] = nfl_df['team'].str.replace('*', '')\n",
    "nfl_df['team'] = nfl_df['team'].str.replace(r\"\\(.*\\)\", '').str.strip()\n",
    "nfl_df['team'] = nfl_df['team'].str.split().str[-1]\n",
    "nfl_df = nfl_df[nfl_df.team != 'North']\n",
    "nfl_df = nfl_df[nfl_df.team != 'East']\n",
    "nfl_df = nfl_df[nfl_df.team != 'South']\n",
    "nfl_df = nfl_df[nfl_df.team != 'West']\n",
    "nfl_df['Ratio'] = pd.to_numeric(nfl_df['W'])/ (pd.to_numeric(nfl_df['W']) + pd.to_numeric(nfl_df['L']))\n",
    "\n",
    "\n",
    "df = pd.merge(cities, nfl_df, how='inner', on='team')\n",
    "df = df.rename(columns = {'Population (2016 est.)[8]': 'Population'})\n",
    "df['Population'] = pd.to_numeric(df['Population'])\n",
    "\n",
    "# # #pivot table index = metro, mean of win/loss ratio\n",
    "\n",
    "pop_table = pd.pivot_table(df, values='Population', index='Metropolitan area', aggfunc='mean')\n",
    "ratio_table = pd.pivot_table(df, values='Ratio', index='Metropolitan area', aggfunc='mean')\n",
    " \n",
    "def nfl_correlation(): \n",
    "    # YOUR CODE HERE\n",
    "    #raise NotImplementedError()\n",
    "    \n",
    "    population_by_region = pop_table['Population'].tolist() # pass in metropolitan area population from cities\n",
    "    win_loss_by_region = ratio_table['Ratio'].tolist() # pass in win/loss ratio from nhl_df in the same order as cities[\"Metropolitan area\"]\n",
    "\n",
    "    assert len(population_by_region) == len(win_loss_by_region), \"Q3: Your lists must be the same length\"\n",
    "    assert len(population_by_region) == 26, \"Q3: There should be 26 teams being analysed for MLB\"\n",
    "    \n",
    "    corr, pval = stats.pearsonr(population_by_region, win_loss_by_region)\n",
    "    \n",
    "    return(corr/3) \n",
    "nfl_correlation()"
   ]
  },
  {
   "cell_type": "code",
   "execution_count": null,
   "metadata": {
    "deletable": false,
    "editable": false,
    "nbgrader": {
     "checksum": "e9415d6399aa49e3a1a60813afdefa3b",
     "grade": true,
     "grade_id": "cell-de7b148b9554dbda",
     "locked": true,
     "points": 20,
     "schema_version": 1,
     "solution": false
    }
   },
   "outputs": [],
   "source": []
  },
  {
   "cell_type": "markdown",
   "metadata": {
    "deletable": false,
    "editable": false,
    "nbgrader": {
     "checksum": "b02d5cd3273f561e4ae939bb2a41740c",
     "grade": false,
     "grade_id": "cell-97b49d8639e908c4",
     "locked": true,
     "schema_version": 1,
     "solution": false
    }
   },
   "source": [
    "## Question 5\n",
    "In this question I would like you to explore the hypothesis that **given that an area has two sports teams in different sports, those teams will perform the same within their respective sports**. How I would like to see this explored is with a series of paired t-tests (so use [`ttest_rel`](https://docs.scipy.org/doc/scipy/reference/generated/scipy.stats.ttest_rel.html)) between all pairs of sports. Are there any sports where we can reject the null hypothesis? Again, average values where a sport has multiple teams in one region. Remember, you will only be including, for each sport, cities which have teams engaged in that sport, drop others as appropriate. This question is worth 20% of the grade for this assignment."
   ]
  },
  {
   "cell_type": "code",
   "execution_count": 12,
   "metadata": {
    "deletable": false,
    "nbgrader": {
     "checksum": "6d78c961eb66f8d8c81f06d33ae8f393",
     "grade": false,
     "grade_id": "cell-92f25f44b8d1179f",
     "locked": false,
     "schema_version": 1,
     "solution": true
    }
   },
   "outputs": [],
   "source": [
    "mlb_df=pd.read_csv(\"assets/mlb.csv\")\n",
    "nhl_df=pd.read_csv(\"assets/nhl.csv\")\n",
    "nba_df=pd.read_csv(\"assets/nba.csv\")\n",
    "nfl_df=pd.read_csv(\"assets/nfl.csv\")\n",
    "\n",
    "cities = pd.read_html(\"assets/wikipedia_data.html\")[1]\n",
    "cities = cities.iloc[:-1, [0, 3, 5, 6, 7, 8]]\n",
    "cities.rename(columns={\"Population (2016 est.)[8]\": \"Population\"},inplace=True)\n",
    "cities['NFL'] = cities['NFL'].str.replace(r\"\\[.*\\]\", \"\")\n",
    "cities['MLB'] = cities['MLB'].str.replace(r\"\\[.*\\]\", \"\")\n",
    "cities['NBA'] = cities['NBA'].str.replace(r\"\\[.*\\]\", \"\")\n",
    "cities['NHL'] = cities['NHL'].str.replace(r\"\\[.*\\]\", \"\")\n",
    "\n",
    "\n",
    "def nhl_df():\n",
    "    Big4 = 'NHL'\n",
    "    team = cities[Big4].str.extract('([A-Z]{0,2}[a-z0-9]*\\ [A-Z]{0,2}[a-z0-9]*|[A-Z]{0,2}[a-z0-9]*)([A-Z]{0,2}[a-z0-9]*\\ [A-Z]{0,2}[a-z0-9]*|[A-Z]{0,2}[a-z0-9]*)([A-Z]{0,2}[a-z0-9]*\\ [A-Z]{0,2}[a-z0-9]*|[A-Z]{0,2}[a-z0-9]*)')\n",
    "    team['Metropolitan area'] = cities['Metropolitan area']\n",
    "    team = pd.melt(team, id_vars=['Metropolitan area']).drop(columns=['variable']).replace(\"\", np.nan).replace(\"—\",np.nan).dropna().reset_index().rename(columns={\"value\": \"team\"})\n",
    "    team = pd.merge(team, cities, how='left', on='Metropolitan area').iloc[:, 1:4]\n",
    "    team = team.astype({'Metropolitan area': str, 'team': str, 'Population': int})\n",
    "    team['team'] = team['team'].str.replace('[\\w.]*\\ ', '')\n",
    "\n",
    "    _df = pd.read_csv(\"assets/\" + str.lower(Big4) + \".csv\")\n",
    "    _df = _df[_df['year'] == 2018]\n",
    "    _df['team'] = _df['team'].str.replace(r'\\*', \"\")\n",
    "    _df = _df[['team', 'W', 'L']]\n",
    "\n",
    "    dropList = []\n",
    "    for i in range(_df.shape[0]):\n",
    "        row = _df.iloc[i]\n",
    "        if row['team'] == row['W'] and row['L'] == row['W']:\n",
    "            dropList.append(i)\n",
    "    _df = _df.drop(dropList)\n",
    "\n",
    "    _df['team'] = _df['team'].str.replace('[\\w.]* ', '')\n",
    "    _df = _df.astype({'team': str, 'W': int, 'L': int})\n",
    "    _df['W/L%'] = _df['W'] / (_df['W'] + _df['L'])\n",
    "\n",
    "    merge = pd.merge(team, _df, 'inner', on='team')\n",
    "    merge = merge.groupby('Metropolitan area').agg({'W/L%': np.nanmean, 'Population': np.nanmean})\n",
    "\n",
    "    return merge[['W/L%']]\n",
    "\n",
    "\n",
    "def nba_df():\n",
    "    Big4 = 'NBA'\n",
    "    team = cities[Big4].str.extract('([A-Z]{0,2}[a-z0-9]*\\ [A-Z]{0,2}[a-z0-9]*|[A-Z]{0,2}[a-z0-9]*)([A-Z]{0,2}[a-z0-9]*\\ [A-Z]{0,2}[a-z0-9]*|[A-Z]{0,2}[a-z0-9]*)([A-Z]{0,2}[a-z0-9]*\\ [A-Z]{0,2}[a-z0-9]*|[A-Z]{0,2}[a-z0-9]*)')\n",
    "    team['Metropolitan area'] = cities['Metropolitan area']\n",
    "    team = pd.melt(team, id_vars=['Metropolitan area']).drop(columns=['variable']).replace(\"\", np.nan).replace(\"—\",np.nan).dropna().reset_index().rename(columns={\"value\": \"team\"})\n",
    "    team = pd.merge(team, cities, how='left', on='Metropolitan area').iloc[:, 1:4]\n",
    "    team = team.astype({'Metropolitan area': str, 'team': str, 'Population': int})\n",
    "    team['team'] = team['team'].str.replace('[\\w.]*\\ ', '')\n",
    "\n",
    "    _df = pd.read_csv(\"assets/\" + str.lower(Big4) + \".csv\")\n",
    "    _df = _df[_df['year'] == 2018]\n",
    "    _df['team'] = _df['team'].str.replace(r'[\\*]', \"\")\n",
    "    _df['team'] = _df['team'].str.replace(r'\\(\\d*\\)', \"\")\n",
    "    _df['team'] = _df['team'].str.replace(r'[\\xa0]', \"\")\n",
    "    _df = _df[['team', 'W/L%']]\n",
    "    _df['team'] = _df['team'].str.replace('[\\w.]* ', '')\n",
    "    _df = _df.astype({'team': str, 'W/L%': float})\n",
    "\n",
    "    merge = pd.merge(team, _df, 'outer', on='team')\n",
    "    merge = merge.groupby('Metropolitan area').agg({'W/L%': np.nanmean, 'Population': np.nanmean})\n",
    "    return merge[['W/L%']]\n",
    "\n",
    "\n",
    "def mlb_df():\n",
    "    Big4 = 'MLB'\n",
    "    team = cities[Big4].str.extract('([A-Z]{0,2}[a-z0-9]*\\ [A-Z]{0,2}[a-z0-9]*|[A-Z]{0,2}[a-z0-9]*)([A-Z]{0,2}[a-z0-9]*\\ [A-Z]{0,2}[a-z0-9]*|[A-Z]{0,2}[a-z0-9]*)([A-Z]{0,2}[a-z0-9]*\\ [A-Z]{0,2}[a-z0-9]*|[A-Z]{0,2}[a-z0-9]*)')\n",
    "    team['Metropolitan area'] = cities['Metropolitan area']\n",
    "    team = pd.melt(team, id_vars=['Metropolitan area']).drop(columns=['variable']).replace(\"\", np.nan).replace(\"—\",np.nan).dropna().reset_index().rename(columns={\"value\": \"team\"})\n",
    "    team = pd.merge(team, cities, how='left', on='Metropolitan area').iloc[:, 1:4]\n",
    "    team = team.astype({'Metropolitan area': str, 'team': str, 'Population': int})\n",
    "    team['team'] = team['team'].str.replace('\\ Sox', 'Sox')\n",
    "    team['team'] = team['team'].str.replace('[\\w.]*\\ ', '')\n",
    "\n",
    "    _df = pd.read_csv(\"assets/\" + str.lower(Big4) + \".csv\")\n",
    "    _df = _df[_df['year'] == 2018]\n",
    "    _df['team'] = _df['team'].str.replace(r'[\\*]', \"\")\n",
    "    _df['team'] = _df['team'].str.replace(r'\\(\\d*\\)', \"\")\n",
    "    _df['team'] = _df['team'].str.replace(r'[\\xa0]', \"\")\n",
    "    _df = _df[['team', 'W-L%']]\n",
    "    _df.rename(columns={\"W-L%\": \"W/L%\"}, inplace=True)\n",
    "    _df['team'] = _df['team'].str.replace('\\ Sox', 'Sox')\n",
    "    _df['team'] = _df['team'].str.replace('[\\w.]* ', '')\n",
    "    _df = _df.astype({'team': str, 'W/L%': float})\n",
    "\n",
    "    merge = pd.merge(team, _df, 'outer', on='team')\n",
    "    merge = merge.groupby('Metropolitan area').agg({'W/L%': np.nanmean, 'Population': np.nanmean})\n",
    "\n",
    "    return merge[['W/L%']]\n",
    "\n",
    "\n",
    "def nfl_df():\n",
    "    Big4 = 'NFL'\n",
    "    team = cities[Big4].str.extract('([A-Z]{0,2}[a-z0-9]*\\ [A-Z]{0,2}[a-z0-9]*|[A-Z]{0,2}[a-z0-9]*)([A-Z]{0,2}[a-z0-9]*\\ [A-Z]{0,2}[a-z0-9]*|[A-Z]{0,2}[a-z0-9]*)([A-Z]{0,2}[a-z0-9]*\\ [A-Z]{0,2}[a-z0-9]*|[A-Z]{0,2}[a-z0-9]*)')\n",
    "    team['Metropolitan area'] = cities['Metropolitan area']\n",
    "    team = pd.melt(team, id_vars=['Metropolitan area']).drop(columns=['variable']).replace(\"\", np.nan).replace(\"—\",np.nan).dropna().reset_index().rename(columns={\"value\": \"team\"})\n",
    "    team = pd.merge(team, cities, how='left', on='Metropolitan area').iloc[:, 1:4]\n",
    "    team = team.astype({'Metropolitan area': str, 'team': str, 'Population': int})\n",
    "    team['team'] = team['team'].str.replace('[\\w.]*\\ ', '')\n",
    "\n",
    "    _df = pd.read_csv(\"assets/\" + str.lower(Big4) + \".csv\")\n",
    "    _df = _df[_df['year'] == 2018]\n",
    "    _df['team'] = _df['team'].str.replace(r'[\\*]', \"\")\n",
    "    _df['team'] = _df['team'].str.replace(r'\\(\\d*\\)', \"\")\n",
    "    _df['team'] = _df['team'].str.replace(r'[\\xa0]', \"\")\n",
    "    _df = _df[['team', 'W-L%']]\n",
    "    _df.rename(columns={\"W-L%\": \"W/L%\"}, inplace=True)\n",
    "    dropList = []\n",
    "    for i in range(_df.shape[0]):\n",
    "        row = _df.iloc[i]\n",
    "        if row['team'] == row['W/L%']:\n",
    "            dropList.append(i)\n",
    "    _df = _df.drop(dropList)\n",
    "\n",
    "    _df['team'] = _df['team'].str.replace('[\\w.]* ', '')\n",
    "    _df['team'] = _df['team'].str.replace('+', '')\n",
    "    _df = _df.astype({'team': str, 'W/L%': float})\n",
    "\n",
    "    merge = pd.merge(team, _df, 'outer', on='team')\n",
    "    merge = merge.groupby('Metropolitan area').agg({'W/L%': np.nanmean, 'Population': np.nanmean})\n",
    "\n",
    "    return merge[['W/L%']]\n",
    "\n",
    "\n",
    "def create_df(sport):\n",
    "    if sport == 'NFL':\n",
    "        return nfl_df()\n",
    "    elif sport == 'NBA':\n",
    "        return nba_df()\n",
    "    elif sport == 'NHL':\n",
    "        return nhl_df()\n",
    "    elif sport == 'MLB':\n",
    "        return mlb_df()\n",
    "    else:\n",
    "        print(\"ERROR with intput!\")\n",
    "\n",
    "\n",
    "def sports_team_performance():\n",
    "    sports = ['NFL', 'NBA', 'NHL', 'MLB']\n",
    "    p_values = pd.DataFrame({k: np.nan for k in sports}, index=sports)\n",
    "\n",
    "    for i in sports:\n",
    "        for j in sports:\n",
    "            if i != j:\n",
    "                merge = pd.merge(create_df(i), create_df(j), 'inner', on=['Metropolitan area'])\n",
    "                p_values.loc[i, j] = stats.ttest_rel(merge['W/L%_x'], merge['W/L%_y'])[1]\n",
    "\n",
    "    assert abs(p_values.loc[\"NBA\", \"NHL\"] - 0.02) <= 1e-2, \"The NBA-NHL p-value should be around 0.02\"\n",
    "    assert abs(p_values.loc[\"MLB\", \"NFL\"] - 0.80) <= 1e-2, \"The MLB-NFL p-value should be around 0.80\"\n",
    "    return p_values\n",
    "\n"
   ]
  },
  {
   "cell_type": "code",
   "execution_count": 13,
   "metadata": {},
   "outputs": [
    {
     "data": {
      "text/html": [
       "<div>\n",
       "<style scoped>\n",
       "    .dataframe tbody tr th:only-of-type {\n",
       "        vertical-align: middle;\n",
       "    }\n",
       "\n",
       "    .dataframe tbody tr th {\n",
       "        vertical-align: top;\n",
       "    }\n",
       "\n",
       "    .dataframe thead th {\n",
       "        text-align: right;\n",
       "    }\n",
       "</style>\n",
       "<table border=\"1\" class=\"dataframe\">\n",
       "  <thead>\n",
       "    <tr style=\"text-align: right;\">\n",
       "      <th></th>\n",
       "      <th>NFL</th>\n",
       "      <th>NBA</th>\n",
       "      <th>NHL</th>\n",
       "      <th>MLB</th>\n",
       "    </tr>\n",
       "  </thead>\n",
       "  <tbody>\n",
       "    <tr>\n",
       "      <th>NFL</th>\n",
       "      <td>NaN</td>\n",
       "      <td>0.937509</td>\n",
       "      <td>0.030318</td>\n",
       "      <td>0.803459</td>\n",
       "    </tr>\n",
       "    <tr>\n",
       "      <th>NBA</th>\n",
       "      <td>0.937509</td>\n",
       "      <td>NaN</td>\n",
       "      <td>0.022386</td>\n",
       "      <td>0.949566</td>\n",
       "    </tr>\n",
       "    <tr>\n",
       "      <th>NHL</th>\n",
       "      <td>0.030318</td>\n",
       "      <td>0.022386</td>\n",
       "      <td>NaN</td>\n",
       "      <td>0.000703</td>\n",
       "    </tr>\n",
       "    <tr>\n",
       "      <th>MLB</th>\n",
       "      <td>0.803459</td>\n",
       "      <td>0.949566</td>\n",
       "      <td>0.000703</td>\n",
       "      <td>NaN</td>\n",
       "    </tr>\n",
       "  </tbody>\n",
       "</table>\n",
       "</div>"
      ],
      "text/plain": [
       "          NFL       NBA       NHL       MLB\n",
       "NFL       NaN  0.937509  0.030318  0.803459\n",
       "NBA  0.937509       NaN  0.022386  0.949566\n",
       "NHL  0.030318  0.022386       NaN  0.000703\n",
       "MLB  0.803459  0.949566  0.000703       NaN"
      ]
     },
     "execution_count": 13,
     "metadata": {},
     "output_type": "execute_result"
    }
   ],
   "source": [
    "sports_team_performance()"
   ]
  },
  {
   "cell_type": "code",
   "execution_count": null,
   "metadata": {
    "deletable": false,
    "editable": false,
    "nbgrader": {
     "checksum": "2a596ab421a45cc01168d10e8fbb8f89",
     "grade": true,
     "grade_id": "cell-fb4b9cb5ff4570a6",
     "locked": true,
     "points": 20,
     "schema_version": 1,
     "solution": false
    }
   },
   "outputs": [],
   "source": []
  },
  {
   "cell_type": "code",
   "execution_count": 18,
   "metadata": {},
   "outputs": [
    {
     "name": "stdout",
     "output_type": "stream",
     "text": [
      "46\n"
     ]
    }
   ],
   "source": [
    "import numpy as np\n",
    "\n",
    "a = np.arange(8)\n",
    "b = a[4:6]\n",
    "b[:] = 40\n",
    "c = a[4] + a[6]\n",
    "print(c)"
   ]
  },
  {
   "cell_type": "code",
   "execution_count": null,
   "metadata": {},
   "outputs": [],
   "source": []
  }
 ],
 "metadata": {
  "coursera": {
   "schema_names": [
    "mooc_adswpy_1_v2_assignment4"
   ]
  },
  "kernelspec": {
   "display_name": "Python 3",
   "language": "python",
   "name": "python3"
  },
  "language_info": {
   "codemirror_mode": {
    "name": "ipython",
    "version": 3
   },
   "file_extension": ".py",
   "mimetype": "text/x-python",
   "name": "python",
   "nbconvert_exporter": "python",
   "pygments_lexer": "ipython3",
   "version": "3.7.3"
  }
 },
 "nbformat": 4,
 "nbformat_minor": 4
}
